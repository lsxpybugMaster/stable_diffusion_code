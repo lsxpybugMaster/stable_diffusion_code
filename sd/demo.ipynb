{
 "cells": [
  {
   "cell_type": "code",
   "execution_count": 1,
   "id": "747a233d",
   "metadata": {},
   "outputs": [
    {
     "name": "stdout",
     "output_type": "stream",
     "text": [
      "Using device : cpu\n"
     ]
    }
   ],
   "source": [
    "import model_loader # 其中调用了全部扩散模型模块\n",
    "import pipeline\n",
    "from PIL import Image\n",
    "from pathlib import Path\n",
    "from transformers import CLIPTokenizer\n",
    "import torch\n",
    "\n",
    "DEVICE = 'cpu'\n",
    "ALLOW_CUDA = False\n",
    "\n",
    "if torch.cuda.is_available() and ALLOW_CUDA:\n",
    "    DEVICE = 'cuda'\n",
    "\n",
    "print(f\"Using device : {DEVICE}\")"
   ]
  },
  {
   "cell_type": "markdown",
   "id": "283b674b",
   "metadata": {},
   "source": [
    "### 加载模型与外部Tokenizer\n",
    "- 由model_loader建立模型"
   ]
  },
  {
   "cell_type": "code",
   "execution_count": 2,
   "id": "6c67fa54",
   "metadata": {},
   "outputs": [
    {
     "name": "stderr",
     "output_type": "stream",
     "text": [
      "c:\\Users\\GameDesign\\AppData\\Local\\Programs\\Python\\Python39\\lib\\site-packages\\scipy\\__init__.py:146: UserWarning: A NumPy version >=1.17.3 and <1.25.0 is required for this version of SciPy (detected version 1.26.3\n",
      "  warnings.warn(f\"A NumPy version >={np_minversion} and <{np_maxversion}\"\n"
     ]
    }
   ],
   "source": [
    "tokenizer = CLIPTokenizer(\"../data/vocab.json\",merges_file=\"../data/merges.txt\")\n",
    "model_file = \"../data/v1-5-pruned-emaonly.ckpt\"\n",
    "models = model_loader.preload_models_from_standard_weights(model_file,DEVICE)"
   ]
  },
  {
   "cell_type": "markdown",
   "id": "6ce6d22b",
   "metadata": {},
   "source": [
    "### 文生图"
   ]
  },
  {
   "cell_type": "code",
   "execution_count": 4,
   "id": "caf8445d",
   "metadata": {},
   "outputs": [],
   "source": [
    "prompt = \"A cat stretching on the floor, highly detailed, ultra sharp, cinematic, 100mm lens, 8k resolution.\"\n",
    "uncond_prompt = \" \"\n",
    "do_cfg = True\n",
    "cfg_scale = 8\n",
    "### 以下为了兼容图生图\n",
    "input_image = None\n",
    "strength = 1"
   ]
  },
  {
   "cell_type": "markdown",
   "id": "c754f84d",
   "metadata": {},
   "source": [
    "### 图生图"
   ]
  },
  {
   "cell_type": "code",
   "execution_count": null,
   "id": "6f3e9742",
   "metadata": {},
   "outputs": [],
   "source": [
    "# image_path = \"../images/dog.jpg\"\n",
    "# input_image = Image.open(image_path)\n",
    "# strength = 0.9"
   ]
  },
  {
   "cell_type": "markdown",
   "id": "ad58b436",
   "metadata": {},
   "source": [
    "### 确定采样器并调用管线"
   ]
  },
  {
   "cell_type": "code",
   "execution_count": null,
   "id": "70ae7ae3",
   "metadata": {},
   "outputs": [],
   "source": [
    "sampler = \"ddpm\"\n",
    "num_inference_steps = 50\n",
    "seed = 42\n",
    "\n",
    "output_image = pipeline.generate(\n",
    "    prompt=prompt,\n",
    "    uncond_prompt=uncond_prompt,\n",
    "    input_image=input_image,\n",
    "    strength=strength,\n",
    "    do_cfg=do_cfg,\n",
    "    cfg_scale=cfg_scale,\n",
    "    sampler_name=sampler,\n",
    "    n_inference_steps=num_inference_steps,\n",
    "    seed=seed,\n",
    "    models=models,\n",
    "    device=DEVICE,\n",
    "    idle_device=\"cpu\",\n",
    "    tokenizer=tokenizer,\n",
    ")\n",
    "\n",
    "Image.fromarray(output_image)"
   ]
  }
 ],
 "metadata": {
  "kernelspec": {
   "display_name": "Python 3",
   "language": "python",
   "name": "python3"
  },
  "language_info": {
   "codemirror_mode": {
    "name": "ipython",
    "version": 3
   },
   "file_extension": ".py",
   "mimetype": "text/x-python",
   "name": "python",
   "nbconvert_exporter": "python",
   "pygments_lexer": "ipython3",
   "version": "3.9.0"
  }
 },
 "nbformat": 4,
 "nbformat_minor": 5
}
